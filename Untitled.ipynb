{
 "cells": [
  {
   "cell_type": "markdown",
   "id": "48cc04cb-07af-45be-b857-1705b77cddca",
   "metadata": {},
   "source": [
    "# Importation des librairies"
   ]
  },
  {
   "cell_type": "code",
   "execution_count": 1,
   "id": "1f301aa5-afb6-4508-a642-7aeb1ce83228",
   "metadata": {},
   "outputs": [],
   "source": [
    "import numpy as np\n",
    "import seaborn as sns\n",
    "import pandas as pd"
   ]
  },
  {
   "cell_type": "code",
   "execution_count": 2,
   "id": "d3627702-91b7-4fe4-8d82-18eaabf97482",
   "metadata": {},
   "outputs": [],
   "source": [
    "def affichage(array):\n",
    "    print(f\"la dimension du tableau: ' {array.shape} '\")\n",
    "    print(f\"le type du tableau: ' {type(array)} '\")\n",
    "    print(array)"
   ]
  },
  {
   "cell_type": "markdown",
   "id": "12b2c0ce-d94b-4b27-88f2-756268276357",
   "metadata": {},
   "source": [
    "## Tableau "
   ]
  },
  {
   "cell_type": "markdown",
   "id": "1d7cfd4f-96d8-4361-b809-59b4a52cb6d5",
   "metadata": {},
   "source": [
    "## 1.1 Tableau à une dimension "
   ]
  },
  {
   "cell_type": "code",
   "execution_count": 3,
   "id": "3d6fa366-fcb6-4e9d-8d51-2a9cda9403b1",
   "metadata": {},
   "outputs": [
    {
     "name": "stdout",
     "output_type": "stream",
     "text": [
      "la dimension du tableau: ' (6,) '\n",
      "le type du tableau: ' <class 'numpy.ndarray'> '\n",
      "[120 234 367 674 345  78]\n"
     ]
    }
   ],
   "source": [
    "one_dim_array = np.array([120, 234, 367, 674, 345, 78])\n",
    "affichage(one_dim_array)"
   ]
  },
  {
   "cell_type": "markdown",
   "id": "8d5b9a48-7d0d-4b41-8d0e-d2e68d9b47c3",
   "metadata": {},
   "source": [
    "## 1.Tableau à deux dimensions "
   ]
  },
  {
   "cell_type": "code",
   "execution_count": 4,
   "id": "7f13c57a-7d1b-4d58-82d3-825569661793",
   "metadata": {},
   "outputs": [
    {
     "name": "stdout",
     "output_type": "stream",
     "text": [
      "la dimension du tableau: ' (2, 4) '\n",
      "le type du tableau: ' <class 'numpy.ndarray'> '\n",
      "[[12 34 23 56]\n",
      " [78 44 34 78]]\n"
     ]
    }
   ],
   "source": [
    "two_dim_array = np.array([\n",
    "    [12, 34, 23, 56],\n",
    "    [78, 44, 34, 78],\n",
    "])\n",
    "affichage(two_dim_array)"
   ]
  },
  {
   "cell_type": "code",
   "execution_count": 5,
   "id": "17ca4c72-4735-4d96-b11f-696cfeded610",
   "metadata": {},
   "outputs": [
    {
     "data": {
      "text/html": [
       "<div>\n",
       "<style scoped>\n",
       "    .dataframe tbody tr th:only-of-type {\n",
       "        vertical-align: middle;\n",
       "    }\n",
       "\n",
       "    .dataframe tbody tr th {\n",
       "        vertical-align: top;\n",
       "    }\n",
       "\n",
       "    .dataframe thead th {\n",
       "        text-align: right;\n",
       "    }\n",
       "</style>\n",
       "<table border=\"1\" class=\"dataframe\">\n",
       "  <thead>\n",
       "    <tr style=\"text-align: right;\">\n",
       "      <th></th>\n",
       "      <th>nom</th>\n",
       "      <th>poste</th>\n",
       "      <th>salaire</th>\n",
       "      <th>anciennete</th>\n",
       "      <th>niveau_etudes</th>\n",
       "      <th>age</th>\n",
       "      <th>ville</th>\n",
       "      <th>certifications</th>\n",
       "    </tr>\n",
       "  </thead>\n",
       "  <tbody>\n",
       "    <tr>\n",
       "      <th>0</th>\n",
       "      <td>ASIM</td>\n",
       "      <td>Ingénieur</td>\n",
       "      <td>7000</td>\n",
       "      <td>6</td>\n",
       "      <td>master</td>\n",
       "      <td>32</td>\n",
       "      <td>Lubumbashi</td>\n",
       "      <td>PMP</td>\n",
       "    </tr>\n",
       "    <tr>\n",
       "      <th>1</th>\n",
       "      <td>JENOVIC</td>\n",
       "      <td>Chef de projet</td>\n",
       "      <td>8500</td>\n",
       "      <td>8</td>\n",
       "      <td>Docteur</td>\n",
       "      <td>40</td>\n",
       "      <td>Kinshasa</td>\n",
       "      <td>Scrum Master</td>\n",
       "    </tr>\n",
       "    <tr>\n",
       "      <th>2</th>\n",
       "      <td>ELDAA</td>\n",
       "      <td>Analyste</td>\n",
       "      <td>6000</td>\n",
       "      <td>3</td>\n",
       "      <td>master</td>\n",
       "      <td>28</td>\n",
       "      <td>Matadi</td>\n",
       "      <td>Data Analyst</td>\n",
       "    </tr>\n",
       "    <tr>\n",
       "      <th>3</th>\n",
       "      <td>GRACE</td>\n",
       "      <td>Developper</td>\n",
       "      <td>4500</td>\n",
       "      <td>5</td>\n",
       "      <td>master</td>\n",
       "      <td>35</td>\n",
       "      <td>Goma</td>\n",
       "      <td>Full Stack Developer</td>\n",
       "    </tr>\n",
       "    <tr>\n",
       "      <th>4</th>\n",
       "      <td>PAUL</td>\n",
       "      <td>Manager</td>\n",
       "      <td>8000</td>\n",
       "      <td>7</td>\n",
       "      <td>Licencié</td>\n",
       "      <td>38</td>\n",
       "      <td>Bukavu</td>\n",
       "      <td>Six Sigma</td>\n",
       "    </tr>\n",
       "  </tbody>\n",
       "</table>\n",
       "</div>"
      ],
      "text/plain": [
       "       nom           poste  salaire  anciennete niveau_etudes  age  \\\n",
       "0     ASIM       Ingénieur     7000           6        master   32   \n",
       "1  JENOVIC  Chef de projet     8500           8       Docteur   40   \n",
       "2    ELDAA        Analyste     6000           3        master   28   \n",
       "3    GRACE      Developper     4500           5        master   35   \n",
       "4     PAUL         Manager     8000           7      Licencié   38   \n",
       "\n",
       "        ville        certifications  \n",
       "0  Lubumbashi                   PMP  \n",
       "1    Kinshasa          Scrum Master  \n",
       "2      Matadi          Data Analyst  \n",
       "3        Goma  Full Stack Developer  \n",
       "4      Bukavu             Six Sigma  "
      ]
     },
     "execution_count": 5,
     "metadata": {},
     "output_type": "execute_result"
    }
   ],
   "source": [
    "data = pd.DataFrame({\n",
    "    \"nom\": [\n",
    "        \"ASIM\", \"JENOVIC\", \"ELDAA\", \n",
    "        \"GRACE\", \"PAUL\", \"MARIE\", \"LUC\", \n",
    "        \"CONSOLATE\", \"JEAN\", \"FRANCK\", \n",
    "        \"DAVID\", \"TEGRA\", \"KETSIA\", \"JEAN\", \"EMMA\"\n",
    "    ],\n",
    "    \"poste\": [\n",
    "        \"Ingénieur\", \"Chef de projet\", \"Analyste\",\n",
    "        \"Developper\", \"Manager\", \"Designer\", \"Technicien\",\n",
    "        \"Responsable RH\", \"Comptable\", \"Marketing\", \"Ventes\", \n",
    "        \"Consultant\", \"IT Support\", \"Recherche\", \"Finance\"\n",
    "    ],\n",
    "    \"salaire\": [\n",
    "        7000, 8500, 6000, 4500, 8000, 5500, 5000, 6500, 4800, \n",
    "        5300, 7500, 9000, 5200, 7200, 6800\n",
    "    ],\n",
    "    \"anciennete\": [6, 8, 3, 5, 7, 4, 2, 9, 3, 6, 10, 5, 2, 8, 4],\n",
    "    \"niveau_etudes\" : [\n",
    "        \"master\", \"Docteur\", \"master\", \"master\", \"Licencié\", \"Licencié\",\n",
    "        \"Bac+2\", \"Master\", \"Bac+3\", \"Licence\", \"Master\", \"Doctorat\", \"Bac+2\", \n",
    "        \"Master\", \"Master\"\n",
    "    ],\n",
    "    \"age\": [32, 40, 28, 35, 38, 30, 26, 37, 29, 33, 45, 42, 25, 34, 31],\n",
    "    \"ville\": [\n",
    "        \"Lubumbashi\", \"Kinshasa\", \"Matadi\", \"Goma\", \"Bukavu\", \"Kisangani\", \n",
    "        \"Kolwezi\", \"Kananga\", \"Mbuji-Mayi\", \"Tshikapa\", \"Boma\", \"Bandundu\", \n",
    "        \"Kikwit\", \"Mbandaka\", \"Isiro\"\n",
    "    ],\n",
    "    \"certifications\": [\n",
    "        \"PMP\", \"Scrum Master\", \"Data Analyst\", \"Full Stack Developer\", \"Six Sigma\", \n",
    "        \"Graphic Design\", \"ITIL\", \"HR Management\", \"CPA\", \"Digital Marketing\", \"Salesforce\", \n",
    "        \"Consulting\", \"Technical Support\", \"Research Methods\", \"Financial Analysis\"\n",
    "    ]\n",
    "})\n",
    "\n",
    "\n",
    "data.head()"
   ]
  },
  {
   "cell_type": "code",
   "execution_count": 6,
   "id": "3691ebe3-c3e6-45df-9510-80bd99425691",
   "metadata": {},
   "outputs": [
    {
     "data": {
      "text/plain": [
       "array([12, 34, 22, 45])"
      ]
     },
     "execution_count": 6,
     "metadata": {},
     "output_type": "execute_result"
    }
   ],
   "source": [
    "table = np.array([12, 34, 22, 45])\n",
    "table"
   ]
  },
  {
   "cell_type": "code",
   "execution_count": 7,
   "id": "9d884bb8-2537-4be1-ab0e-63eaa5e689ea",
   "metadata": {},
   "outputs": [
    {
     "data": {
      "text/plain": [
       "array([[0., 0.],\n",
       "       [0., 0.],\n",
       "       [0., 0.]])"
      ]
     },
     "execution_count": 7,
     "metadata": {},
     "output_type": "execute_result"
    }
   ],
   "source": [
    "b = np.zeros((3, 2))\n",
    "c = np.ones((3, 2))\n",
    "b"
   ]
  },
  {
   "cell_type": "code",
   "execution_count": 8,
   "id": "19043c6d-ba81-417c-9b79-da6867576b37",
   "metadata": {},
   "outputs": [
    {
     "data": {
      "text/plain": [
       "array([[9, 9, 9, 9, 9],\n",
       "       [9, 9, 9, 9, 9],\n",
       "       [9, 9, 9, 9, 9],\n",
       "       [9, 9, 9, 9, 9]])"
      ]
     },
     "execution_count": 8,
     "metadata": {},
     "output_type": "execute_result"
    }
   ],
   "source": [
    "c = np.full((4, 5), 9)\n",
    "c"
   ]
  },
  {
   "cell_type": "code",
   "execution_count": 9,
   "id": "933ef399-e3ac-467d-99fe-e896c04aa14d",
   "metadata": {},
   "outputs": [
    {
     "data": {
      "text/plain": [
       "array([[[-0.31885351, -1.60298056, -1.53521787, -0.57040089],\n",
       "        [-0.2167283 ,  0.2548743 , -0.14944994,  2.01078257]],\n",
       "\n",
       "       [[-0.09678416,  0.42220166, -0.22546156, -0.63794309],\n",
       "        [-0.0162863 ,  1.04421678, -1.08488033, -2.20592483]]])"
      ]
     },
     "execution_count": 9,
     "metadata": {},
     "output_type": "execute_result"
    }
   ],
   "source": [
    "np.random.seed(33)\n",
    "d = np.random.randn(2, 2, 4)\n",
    "d"
   ]
  },
  {
   "cell_type": "code",
   "execution_count": 10,
   "id": "f271ab23-6de1-4344-b7d9-a43727347bd0",
   "metadata": {},
   "outputs": [
    {
     "data": {
      "text/plain": [
       "array([ 0,  0,  1,  1,  2,  2,  3,  3,  4,  4,  5,  5,  6,  6,  7,  7,  8,\n",
       "        8,  9, 10], dtype=int32)"
      ]
     },
     "execution_count": 10,
     "metadata": {},
     "output_type": "execute_result"
    }
   ],
   "source": [
    "np.linspace(0, 10, 20, dtype=np.int32)\n"
   ]
  },
  {
   "cell_type": "code",
   "execution_count": 11,
   "id": "0af825ae-4d39-4d00-9f7c-7df25f1a65f8",
   "metadata": {},
   "outputs": [
    {
     "data": {
      "text/plain": [
       "array([0. , 0.5, 1. , 1.5, 2. , 2.5, 3. , 3.5, 4. , 4.5, 5. , 5.5, 6. ,\n",
       "       6.5, 7. , 7.5, 8. , 8.5, 9. , 9.5])"
      ]
     },
     "execution_count": 11,
     "metadata": {},
     "output_type": "execute_result"
    }
   ],
   "source": [
    "np.arange(0, 10, 0.5)"
   ]
  },
  {
   "cell_type": "markdown",
   "id": "99985625-aadf-4b92-a599-caaf01e47ce5",
   "metadata": {},
   "source": [
    "## Manipulation des tableaux NUMPY"
   ]
  },
  {
   "cell_type": "code",
   "execution_count": null,
   "id": "6b4e6d2d-ee2b-4281-b3bb-f9c1425897f4",
   "metadata": {},
   "outputs": [],
   "source": []
  },
  {
   "cell_type": "code",
   "execution_count": null,
   "id": "fc9f0e49-7dfe-455b-92e5-2b9bd323f9cc",
   "metadata": {},
   "outputs": [],
   "source": []
  },
  {
   "cell_type": "code",
   "execution_count": 15,
   "id": "d4061591-8821-42c6-b40a-925f574080e5",
   "metadata": {},
   "outputs": [],
   "source": [
    "# # autre methode\n",
    "# d = np.concatenate((b, c), axis=0)\n",
    "# d.shape"
   ]
  },
  {
   "cell_type": "markdown",
   "id": "96df2309-1ccc-4a5f-bcec-7a8cc920a285",
   "metadata": {},
   "source": [
    "# remanupuler la forme de tableau"
   ]
  },
  {
   "cell_type": "code",
   "execution_count": 18,
   "id": "379d7020-457f-4183-a662-b9303a4d79f4",
   "metadata": {},
   "outputs": [],
   "source": [
    "# d.reshape(2, 6, 1)"
   ]
  },
  {
   "cell_type": "code",
   "execution_count": 19,
   "id": "84805630-0258-4bc8-ac51-cbf76bf4bbfc",
   "metadata": {},
   "outputs": [],
   "source": [
    "# exercises\n",
    "def initialisation(m, n):\n",
    "    random_array = np.random.randn(m, n+1)\n",
    "    biais_array = np.ones(random_array.shape)\n",
    "    # biais_array = biais_array.reshape(biais_array.shape[0], 1)\n",
    "    concatenation_array = np.concatenate((biais_array, random_array), axis=1)\n",
    "\n",
    "    return concatenation_array\n",
    "    "
   ]
  },
  {
   "cell_type": "code",
   "execution_count": 20,
   "id": "cceca820-153c-45bd-b547-f77b9ce15515",
   "metadata": {},
   "outputs": [
    {
     "data": {
      "text/plain": [
       "array([[ 1.        ,  1.        ,  1.        , -0.95121901,  0.83297319,\n",
       "        -1.00020817],\n",
       "       [ 1.        ,  1.        ,  1.        ,  0.34346274,  1.54603026,\n",
       "         0.69008095]])"
      ]
     },
     "execution_count": 20,
     "metadata": {},
     "output_type": "execute_result"
    }
   ],
   "source": [
    "initialisation(2, 2)"
   ]
  },
  {
   "cell_type": "markdown",
   "id": "3e8f9160-d99a-4228-8964-0b96082507ec",
   "metadata": {},
   "source": [
    "## L'indexing et les slicing"
   ]
  },
  {
   "cell_type": "code",
   "execution_count": 21,
   "id": "5f9555ca-ab85-45d1-adea-0a3008b9a5fa",
   "metadata": {},
   "outputs": [
    {
     "data": {
      "text/plain": [
       "(3, 3)"
      ]
     },
     "execution_count": 21,
     "metadata": {},
     "output_type": "execute_result"
    }
   ],
   "source": [
    "array_d2 = np.array([\n",
    "    [23, 34, 24],\n",
    "    [2300, 3400, 2400],\n",
    "    [233, 342, 244],\n",
    "])\n",
    "array_d2.shape"
   ]
  },
  {
   "cell_type": "code",
   "execution_count": 22,
   "id": "56489800-88f8-4452-8ca0-347e3b001446",
   "metadata": {},
   "outputs": [
    {
     "data": {
      "text/plain": [
       "array([[  23,   34,   24],\n",
       "       [2300, 3400, 2400],\n",
       "       [ 233,  342,  244]])"
      ]
     },
     "execution_count": 22,
     "metadata": {},
     "output_type": "execute_result"
    }
   ],
   "source": [
    "array_d2"
   ]
  },
  {
   "cell_type": "code",
   "execution_count": 23,
   "id": "49e5883d-05a6-42d1-8e27-fd87ca7d60f5",
   "metadata": {},
   "outputs": [
    {
     "data": {
      "text/plain": [
       "np.int64(2400)"
      ]
     },
     "execution_count": 23,
     "metadata": {},
     "output_type": "execute_result"
    }
   ],
   "source": [
    "array_d2[1, 2]"
   ]
  },
  {
   "cell_type": "code",
   "execution_count": 24,
   "id": "4c64db74-2506-416c-8592-1a4474ba0cb8",
   "metadata": {},
   "outputs": [
    {
     "data": {
      "text/plain": [
       "array([23, 34, 24])"
      ]
     },
     "execution_count": 24,
     "metadata": {},
     "output_type": "execute_result"
    }
   ],
   "source": [
    "array_d2[0, :]"
   ]
  },
  {
   "cell_type": "code",
   "execution_count": 25,
   "id": "fe41759a-24ec-4daf-be69-7d8fbbfc1c5e",
   "metadata": {},
   "outputs": [
    {
     "data": {
      "text/plain": [
       "array([[23, 34]])"
      ]
     },
     "execution_count": 25,
     "metadata": {},
     "output_type": "execute_result"
    }
   ],
   "source": [
    "array_d2[:1, :2]"
   ]
  },
  {
   "cell_type": "code",
   "execution_count": null,
   "id": "a033032a-f74f-4bff-a6ec-aadaa691ae3e",
   "metadata": {},
   "outputs": [],
   "source": []
  },
  {
   "cell_type": "code",
   "execution_count": 26,
   "id": "153e5d25-6a92-456b-aa2a-d3fe470c67bc",
   "metadata": {},
   "outputs": [
    {
     "data": {
      "text/html": [
       "<div>\n",
       "<style scoped>\n",
       "    .dataframe tbody tr th:only-of-type {\n",
       "        vertical-align: middle;\n",
       "    }\n",
       "\n",
       "    .dataframe tbody tr th {\n",
       "        vertical-align: top;\n",
       "    }\n",
       "\n",
       "    .dataframe thead th {\n",
       "        text-align: right;\n",
       "    }\n",
       "</style>\n",
       "<table border=\"1\" class=\"dataframe\">\n",
       "  <thead>\n",
       "    <tr style=\"text-align: right;\">\n",
       "      <th></th>\n",
       "      <th>nom</th>\n",
       "      <th>poste</th>\n",
       "      <th>salaire</th>\n",
       "      <th>anciennete</th>\n",
       "      <th>niveau_etudes</th>\n",
       "      <th>age</th>\n",
       "      <th>ville</th>\n",
       "      <th>certifications</th>\n",
       "    </tr>\n",
       "  </thead>\n",
       "  <tbody>\n",
       "    <tr>\n",
       "      <th>0</th>\n",
       "      <td>ASIM</td>\n",
       "      <td>Ingénieur</td>\n",
       "      <td>7000</td>\n",
       "      <td>6</td>\n",
       "      <td>master</td>\n",
       "      <td>32</td>\n",
       "      <td>Lubumbashi</td>\n",
       "      <td>PMP</td>\n",
       "    </tr>\n",
       "    <tr>\n",
       "      <th>1</th>\n",
       "      <td>JENOVIC</td>\n",
       "      <td>Chef de projet</td>\n",
       "      <td>8500</td>\n",
       "      <td>8</td>\n",
       "      <td>Docteur</td>\n",
       "      <td>40</td>\n",
       "      <td>Kinshasa</td>\n",
       "      <td>Scrum Master</td>\n",
       "    </tr>\n",
       "    <tr>\n",
       "      <th>2</th>\n",
       "      <td>ELDAA</td>\n",
       "      <td>Analyste</td>\n",
       "      <td>6000</td>\n",
       "      <td>3</td>\n",
       "      <td>master</td>\n",
       "      <td>28</td>\n",
       "      <td>Matadi</td>\n",
       "      <td>Data Analyst</td>\n",
       "    </tr>\n",
       "    <tr>\n",
       "      <th>3</th>\n",
       "      <td>GRACE</td>\n",
       "      <td>Developper</td>\n",
       "      <td>4500</td>\n",
       "      <td>5</td>\n",
       "      <td>master</td>\n",
       "      <td>35</td>\n",
       "      <td>Goma</td>\n",
       "      <td>Full Stack Developer</td>\n",
       "    </tr>\n",
       "    <tr>\n",
       "      <th>4</th>\n",
       "      <td>PAUL</td>\n",
       "      <td>Manager</td>\n",
       "      <td>8000</td>\n",
       "      <td>7</td>\n",
       "      <td>Licencié</td>\n",
       "      <td>38</td>\n",
       "      <td>Bukavu</td>\n",
       "      <td>Six Sigma</td>\n",
       "    </tr>\n",
       "  </tbody>\n",
       "</table>\n",
       "</div>"
      ],
      "text/plain": [
       "       nom           poste  salaire  anciennete niveau_etudes  age  \\\n",
       "0     ASIM       Ingénieur     7000           6        master   32   \n",
       "1  JENOVIC  Chef de projet     8500           8       Docteur   40   \n",
       "2    ELDAA        Analyste     6000           3        master   28   \n",
       "3    GRACE      Developper     4500           5        master   35   \n",
       "4     PAUL         Manager     8000           7      Licencié   38   \n",
       "\n",
       "        ville        certifications  \n",
       "0  Lubumbashi                   PMP  \n",
       "1    Kinshasa          Scrum Master  \n",
       "2      Matadi          Data Analyst  \n",
       "3        Goma  Full Stack Developer  \n",
       "4      Bukavu             Six Sigma  "
      ]
     },
     "execution_count": 26,
     "metadata": {},
     "output_type": "execute_result"
    }
   ],
   "source": [
    "data.head()"
   ]
  },
  {
   "cell_type": "code",
   "execution_count": null,
   "id": "d9141bf9-592f-4d16-ae4b-bb20cc10b8ce",
   "metadata": {},
   "outputs": [],
   "source": []
  }
 ],
 "metadata": {
  "kernelspec": {
   "display_name": "Python 3 (ipykernel)",
   "language": "python",
   "name": "python3"
  },
  "language_info": {
   "codemirror_mode": {
    "name": "ipython",
    "version": 3
   },
   "file_extension": ".py",
   "mimetype": "text/x-python",
   "name": "python",
   "nbconvert_exporter": "python",
   "pygments_lexer": "ipython3",
   "version": "3.12.8"
  }
 },
 "nbformat": 4,
 "nbformat_minor": 5
}
